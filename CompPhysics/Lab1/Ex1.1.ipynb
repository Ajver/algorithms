{
 "cells": [
  {
   "cell_type": "code",
   "id": "initial_id",
   "metadata": {
    "collapsed": true,
    "ExecuteTime": {
     "end_time": "2025-10-29T10:57:45.214565Z",
     "start_time": "2025-10-29T10:57:45.212174Z"
    }
   },
   "source": [
    "import numpy as np\n",
    "import matplotlib.pyplot as plt"
   ],
   "outputs": [],
   "execution_count": 14
  },
  {
   "metadata": {
    "ExecuteTime": {
     "end_time": "2025-10-29T10:58:13.597909Z",
     "start_time": "2025-10-29T10:58:13.592754Z"
    }
   },
   "cell_type": "code",
   "source": [
    "def F(t, F0, OMEGA):\n",
    "    gamma = 0\n",
    "    return F0 * np.cos(OMEGA*t + gamma)\n",
    "\n",
    "def f(n, y, omega, beta, F0, OMEGA):\n",
    "    v_t = y[1, n]\n",
    "    return v_t\n",
    "\n",
    "def g(n, y, omega, beta, F0, OMEGA):\n",
    "    x_t = y[0, n]\n",
    "    v_t = y[1, n]\n",
    "    return -np.power(omega, 2)*x_t - beta*v_t + F(t, F0, OMEGA)\n"
   ],
   "id": "1687fa17201d08f9",
   "outputs": [],
   "execution_count": 19
  },
  {
   "metadata": {
    "ExecuteTime": {
     "end_time": "2025-10-29T11:01:07.026487Z",
     "start_time": "2025-10-29T11:01:07.022383Z"
    }
   },
   "cell_type": "code",
   "source": [
    "\n",
    "def RK4(y, dt, funcs, omega, beta, F0, OMEGA):\n",
    "    for n in range(0, y.shape[1] - 1):\n",
    "        for fi in range(y.shape[0]):\n",
    "            y_n = funcs[fi](n, y, omega, beta, F0, OMEGA)\n",
    "            assert (type(y_n) == np.ndarray)\n",
    "            assert (y_n.shape == (1, ))\n",
    "\n",
    "            k1 = y_n\n",
    "            k2 = y_n + 0.5*dt*k1\n",
    "            k3 = y_n + 0.5*dt*k2\n",
    "            k4 = y_n + dt*k3\n",
    "\n",
    "            y[:, n + 1] = y[:, n] + (dt/6)*(k1 + 2*k2 + 2*k3 + k4)\n"
   ],
   "id": "a5bcb9537a85fe89",
   "outputs": [],
   "execution_count": 29
  },
  {
   "metadata": {
    "ExecuteTime": {
     "end_time": "2025-10-29T11:01:09.051556Z",
     "start_time": "2025-10-29T11:01:08.999357Z"
    }
   },
   "cell_type": "code",
   "source": [
    "# a)\n",
    "dt = 10e-4\n",
    "\n",
    "k = 1\n",
    "m = 1\n",
    "beta = 0\n",
    "F0 = 0\n",
    "OMEGA = 0\n",
    "\n",
    "omega = np.sqrt(k/m)\n",
    "T0 = 2*np.pi/omega\n",
    "\n",
    "t = np.arange(0, 4*T0 + dt, dt)\n",
    "\n",
    "x = np.zeros(len(t))\n",
    "v = np.zeros(len(t))\n",
    "y = np.array([x, v])\n",
    "funcs = [f, g]\n",
    "print(f\"{y.shape=}\")\n",
    "\n",
    "RK4(y, dt, funcs, omega, beta, F0, OMEGA)\n",
    "\n",
    "x[0] = 1\n",
    "v[0] = 0"
   ],
   "id": "50771154a99fd134",
   "outputs": [
    {
     "name": "stdout",
     "output_type": "stream",
     "text": [
      "y.shape=(2, 25134)\n"
     ]
    },
    {
     "ename": "AssertionError",
     "evalue": "",
     "output_type": "error",
     "traceback": [
      "\u001B[31m---------------------------------------------------------------------------\u001B[39m",
      "\u001B[31mAssertionError\u001B[39m                            Traceback (most recent call last)",
      "\u001B[36mCell\u001B[39m\u001B[36m \u001B[39m\u001B[32mIn[30]\u001B[39m\u001B[32m, line 21\u001B[39m\n\u001B[32m     18\u001B[39m funcs = [f, g]\n\u001B[32m     19\u001B[39m \u001B[38;5;28mprint\u001B[39m(\u001B[33mf\u001B[39m\u001B[33m\"\u001B[39m\u001B[38;5;132;01m{\u001B[39;00my.shape\u001B[38;5;132;01m=}\u001B[39;00m\u001B[33m\"\u001B[39m)\n\u001B[32m---> \u001B[39m\u001B[32m21\u001B[39m \u001B[43mRK4\u001B[49m\u001B[43m(\u001B[49m\u001B[43my\u001B[49m\u001B[43m,\u001B[49m\u001B[43m \u001B[49m\u001B[43mdt\u001B[49m\u001B[43m,\u001B[49m\u001B[43m \u001B[49m\u001B[43mfuncs\u001B[49m\u001B[43m,\u001B[49m\u001B[43m \u001B[49m\u001B[43momega\u001B[49m\u001B[43m,\u001B[49m\u001B[43m \u001B[49m\u001B[43mbeta\u001B[49m\u001B[43m,\u001B[49m\u001B[43m \u001B[49m\u001B[43mF0\u001B[49m\u001B[43m,\u001B[49m\u001B[43m \u001B[49m\u001B[43mOMEGA\u001B[49m\u001B[43m)\u001B[49m\n\u001B[32m     23\u001B[39m x[\u001B[32m0\u001B[39m] = \u001B[32m1\u001B[39m\n\u001B[32m     24\u001B[39m v[\u001B[32m0\u001B[39m] = \u001B[32m0\u001B[39m\n",
      "\u001B[36mCell\u001B[39m\u001B[36m \u001B[39m\u001B[32mIn[29]\u001B[39m\u001B[32m, line 5\u001B[39m, in \u001B[36mRK4\u001B[39m\u001B[34m(y, dt, funcs, omega, beta, F0, OMEGA)\u001B[39m\n\u001B[32m      3\u001B[39m \u001B[38;5;28;01mfor\u001B[39;00m fi \u001B[38;5;129;01min\u001B[39;00m \u001B[38;5;28mrange\u001B[39m(y.shape[\u001B[32m0\u001B[39m]):\n\u001B[32m      4\u001B[39m     y_n = funcs[fi](n, y, omega, beta, F0, OMEGA)\n\u001B[32m----> \u001B[39m\u001B[32m5\u001B[39m     \u001B[38;5;28;01massert\u001B[39;00m (\u001B[38;5;28mtype\u001B[39m(y_n) == np.ndarray)\n\u001B[32m      6\u001B[39m     \u001B[38;5;28;01massert\u001B[39;00m (y_n.shape == (\u001B[32m1\u001B[39m, ))\n\u001B[32m      8\u001B[39m     k1 = y_n\n",
      "\u001B[31mAssertionError\u001B[39m: "
     ]
    }
   ],
   "execution_count": 30
  }
 ],
 "metadata": {
  "kernelspec": {
   "display_name": "Python 3",
   "language": "python",
   "name": "python3"
  },
  "language_info": {
   "codemirror_mode": {
    "name": "ipython",
    "version": 2
   },
   "file_extension": ".py",
   "mimetype": "text/x-python",
   "name": "python",
   "nbconvert_exporter": "python",
   "pygments_lexer": "ipython2",
   "version": "2.7.6"
  }
 },
 "nbformat": 4,
 "nbformat_minor": 5
}
