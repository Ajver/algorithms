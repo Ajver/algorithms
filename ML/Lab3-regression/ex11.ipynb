{
 "cells": [
  {
   "cell_type": "code",
   "id": "initial_id",
   "metadata": {
    "collapsed": true,
    "ExecuteTime": {
     "end_time": "2025-10-19T18:15:23.425816Z",
     "start_time": "2025-10-19T18:15:22.424768Z"
    }
   },
   "source": [
    "import numpy as np\n",
    "import pandas as pd\n",
    "from ISLP import load_data\n",
    "from ISLP.models import ModelSpec, summarize\n",
    "import statsmodels.api as sm\n",
    "from matplotlib.pyplot import subplots\n",
    "from statsmodels.stats.anova import anova_lm\n",
    "\n",
    "from statsmodels.stats.outliers_influence \\\n",
    "    import variance_inflation_factor as VIF"
   ],
   "outputs": [],
   "execution_count": 1
  }
 ],
 "metadata": {
  "kernelspec": {
   "display_name": "Python 3",
   "language": "python",
   "name": "python3"
  },
  "language_info": {
   "codemirror_mode": {
    "name": "ipython",
    "version": 2
   },
   "file_extension": ".py",
   "mimetype": "text/x-python",
   "name": "python",
   "nbconvert_exporter": "python",
   "pygments_lexer": "ipython2",
   "version": "2.7.6"
  }
 },
 "nbformat": 4,
 "nbformat_minor": 5
}
